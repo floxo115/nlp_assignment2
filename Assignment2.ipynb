{
 "cells": [
  {
   "cell_type": "markdown",
   "metadata": {},
   "source": [
    "Please fill out the information of your group!\n",
    "\n",
    "| <p style=\"text-align: center;\">First Name</p>  | <p style=\"text-align: center;\">Family Name</p> | Matr.-No. |\n",
    "| ---------------------------------------------- | ---------------------------------------------- | -------- |\n",
    "| <p style=\"text-align: left\">*EDIT!*</p>| <p style=\"text-align: left\">*EDIT!*</p> | *EDIT!* |\n",
    "| <p style=\"text-align: left\">*EDIT!*</p>| <p style=\"text-align: left\">*EDIT!*</p> | *EDIT!* |\n",
    "\n"
   ]
  },
  {
   "cell_type": "markdown",
   "metadata": {},
   "source": [
    "<h2 style=\"text-align: center\">344.105/6/7 UE: Natural Language Processing (WS2021/22)</h2>\n",
    "<h1 style=\"color:rgb(0,120,170)\">Assignment 2</h1>\n",
    "<h2 style=\"color:rgb(0,120,170)\">Getting to Know Word Embedding!</h2>"
   ]
  },
  {
   "cell_type": "markdown",
   "metadata": {},
   "source": [
    "<b>Terms of Use</b><br>\n",
    "This  material is prepared for educational purposes at the Johannes Kepler University Linz (JKU), and is exclusively provided to the registered students of the mentioned course at JKU. It is strictly forbidden to distribute the current file, the contents of the assignment, and its solution. The use or reproduction of this manuscript is only allowed for educational purposes in non-profit organizations, while in this case, the explicit prior acceptance of the author(s) is required.\n",
    "\n",
    "**Author:** Navid Rekab-saz<br>\n",
    "**Email:** navid.rekabsaz@jku.at<br>\n",
    "\n",
    "</div>"
   ]
  },
  {
   "cell_type": "markdown",
   "metadata": {},
   "source": [
    "<h2>Table of contents</h2>\n",
    "<ol>\n",
    "    <a href=\"#section-general-guidelines\"><li style=\"font-size:large;font-weight:bold\">General Guidelines</li></a>\n",
    "    <a href=\"#section-taskA\"><li style=\"font-size:large;font-weight:bold\">Task A: Similarity, Nearest Neighbors, and WE Evaluation (20 points)</li></a>\n",
    "    <a href=\"#section-taskB\"><li style=\"font-size:large;font-weight:bold\">Task B: Document Classification with WE (10 points)</li></a>\n",
    "    <a href=\"#section-taskC\"><li style=\"font-size:large;font-weight:bold\">Task C: Classification with sent2vec Document Embeddings (2 extra point)</li></a>\n",
    "    <a href=\"#section-references\"><li style=\"font-size:large;font-weight:bold\">References</li></a>\n",
    "    \n",
    "</ol>"
   ]
  },
  {
   "cell_type": "markdown",
   "metadata": {},
   "source": [
    "<a name=\"section-general-guidelines\"></a><h2 style=\"color:rgb(0,120,170)\">General Guidelines</h2>"
   ]
  },
  {
   "cell_type": "markdown",
   "metadata": {},
   "source": [
    "\n",
    "\n",
    "### Assignment objective\n",
    "The aim of this assignment is to get familiarized with using word embedding (WE) models in practice. The assignment in total has **30 points**; it also offers **2 extra points** which can cover any missing point.\n",
    "\n",
    "This Notebook encompasses all aspects of the assignment, namely the descriptions of tasks as well as your solutions and reports. Feel free to add any required cell for solutions. The cells can contain code, reports, charts, tables, or any other material, required for the assignment. Feel free to provide the solutions in an interactive and visual way! \n",
    "\n",
    "Please discuss any unclear point in the assignment in the provided forum in MOODLE. It is also encouraged to provide answers to your peer's questions. However when submitting a post, keep in mind to avoid providing solutions. Please let the tutor(s) know shall you find any error or unclarity in the assignment.\n",
    "\n",
    "### Implementation & Libraries\n",
    "\n",
    "The assignment should be implemented with recent versions of `Python` (>3.7). Any standard Python library can be used, so far that the library is free and can be simply installed using `pip` or `conda`. Examples of potentially useful libraries are `scikit-learn`, `numpy`, `scipy`, `gensim`, `nltk`, `spaCy`, and `AllenNLP`. Use the latest stable version of each library.\n",
    "\n",
    "### Submission\n",
    "\n",
    "Each group submits one Notebook file (`.ipynb`) through MOODLE. Do not forget to put in your names and student numbers in the first cell of the Notebook. **In the submitted Notebook, all the results and visualizations should already be present, and can be observed simply by loading the Notebook in a browser.** The Notebook must be self-contained, meaning that one can run all the cells from top to bottom without any error. If you need to include extra files in the submission, compress all files (together with the Notebook) in a `zip` file and submit the zip file to MOODLE. You do not need to include the data files in the submission.\n",
    "\n",
    "Cover the questions/points, mentioned in the tasks, but also add any necessary point for understanding your experiments.  \n",
    "\n",
    "\n",
    "### Dataset\n",
    "\n",
    "To conduct the experiments, two datasets are provided. The datasets are taken from the data of `thedeep` project, produced by the DEEP (https://www.thedeep.io) platform. The DEEP is an open-source platform, which aims to facilitate processing of textual data for international humanitarian response organizations. The platform enables the classification of text excerpts, extracted from news and reports into a set of domain specific classes. The provided dataset has 12 classes (labels) like agriculture, health, and protection. \n",
    "\n",
    "The difference between the datasets is in their sizes. We refer to these as `medium` and `small`, containing an overall number of 38,000 and 12,000 annotated text excerpts, respectively. Select one of the datasets, and use it for all of the tasks. `medium` provides more data and therefore reflects a more realistic scenario. `small` is however provided for the sake of convenience, particularly if running the experiments on your available hardware takes too long. Using `medium` is generally recommended, but from the point of view of assignment grading, there is no difference between the datasets.\n",
    "\n",
    "Download the dataset from [this link](https://drive.jku.at/filr/public-link/file-download/0cce88f07c9c862b017c9cfba294077a/33590/5792942781153185740/nlp2021_22_data.zip).\n",
    "\n",
    "Whether `medium` or `small`, you will find the following files in the provided zip file:\n",
    "- `thedeep.$name$.train.txt`: Train set in csv format with three fields: sentence_id, text, and label.\n",
    "- `thedeep.$name$.validation.txt`: Validation set in csv format with three fields: sentence_id, text, and label.\n",
    "- `thedeep.$name$.test.txt`: Test set in csv format with three fields: sentence_id, text, and label.\n",
    "- `thedeep.$name$.label.txt`: Captions of the labels.\n",
    "- `README.txt`: Terms of use of the dataset.\n",
    "\n",
    "</div>\n",
    "\n"
   ]
  },
  {
   "cell_type": "markdown",
   "metadata": {},
   "source": [
    "<a name=\"section-taskA\"></a><h2 style=\"color:rgb(0,120,170)\">Task A: Similarity, Nearest Neighbors, and WE Evaluation (20 points)</h2>"
   ]
  },
  {
   "cell_type": "markdown",
   "metadata": {},
   "source": [
    "\n",
    "**Loading a word embedding (WE) model (2 points).** Download a pre-trained word embedding model such as word2vec (https://code.google.com/archive/p/word2vec/) or GloVe (https://nlp.stanford.edu/projects/glove/). You can load the downloaded vectors into arrays, or use libraries such as `gensim` to download and process the vectors. \n",
    "\n",
    "**Calculating word-to-word similarities (3 points).** Select <ins>3 arbitrary words</ins>, referred to as *source words*. For each source word, calculate the cosine similarities to the <ins>5 other words</ins>, that from your own linguistic judgement have various levels of semantic relations to the source word (from highly related to not related at all). Compare the output similarities with your judgements on the semantic relations of words, and report your observations. Consider that when calculating the cosine similarities, DO NOT use the provided functionalities of any library, but implement the cosine similarity as a function that takes two vectors and returns a similarity score.\n",
    "\n",
    "**Calculating nearest neighbors (7 points).** For the selected source words, retrieve the 10 nearest neighbors in the word embedding model, namely the words that have the highest similarities to the source word. Consider that when calculating the nearest neighbors, DO NOT use the provided functionalities of any library but implement it as the function that takes a source vector, a set of target vectors, and a $k$ parameter, and returns the $k$ nearest neighbors and their similarity scores. This function should provide an *efficient* calculation of nearest neighbors. An inefficient way (which should be avoided!) would be looping over the set of vectors in the word embedding model, and one by one calculating the cosine similarity of a source vector to each of the target vectors. As a hint for an efficient way, consider that in `numpy` (and other libraries), calculating the dot product of a vector to a matrix is much faster than the dot products of the vector to each vector of the matrix. (**3 out of 7 points for efficiency**)\n",
    "\n",
    "**WE evaluation (8 points).** There have been several efforts in devising benchmarking datasets to intrinsically evaluate the *goodness* of word embedding models. [Levy et al.](https://aclanthology.org/Q15-1016.pdf) [1] in Section 4.3 describe the two evaluation category of *Word Similarity* and *Analogy* tasks, reference the various datasets of each task, explain the method(s) to calculate the required quantities, and finally discribes the method to evaluate the models on the tasks. Following the descriptions in the paper, select one word similarity and one analogy dataset, download the corresponding datasets (the datasets are publicly available –– they can also be found through the cited papers), and conduct the evaluation process on the WE model. For the analogy task, conduct the experiments using both `3CosAdd` and `3CosMul` methods. Report the evaluation results. Your results should be in the range of the ones reported in the paper (for sanity check). As before, provide your own implementation of the calculations and DO NOT use the functions of libraries.\n",
    "\n",
    "</div>"
   ]
  },
  {
   "cell_type": "code",
   "execution_count": 1,
   "metadata": {},
   "outputs": [],
   "source": [
    "import numpy as np\n",
    "import pandas as pd\n",
    "import csv\n",
    "from os import system"
   ]
  },
  {
   "cell_type": "code",
   "execution_count": 2,
   "metadata": {},
   "outputs": [],
   "source": [
    "VECTOR_FILE = \"glove/glove.6B.100d.txt\"\n",
    "DOWNLOAD_GLOVE = True\n",
    "DOWNLOAD_WORDSIM = True"
   ]
  },
  {
   "cell_type": "code",
   "execution_count": 6,
   "metadata": {},
   "outputs": [
    {
     "name": "stderr",
     "output_type": "stream",
     "text": [
      "--2021-11-26 09:14:50--  http://alfonseca.org/pubs/ws353simrel.tar.gz\n",
      "Resolving alfonseca.org (alfonseca.org)... 162.215.249.67\n",
      "Connecting to alfonseca.org (alfonseca.org)|162.215.249.67|:80... connected.\n",
      "HTTP request sent, awaiting response... "
     ]
    },
    {
     "name": "stdout",
     "output_type": "stream",
     "text": [
      "wordsim353_sim_rel/wordsim353_agreed.txt\n",
      "wordsim353_sim_rel/wordsim353_annotator1.txt\n",
      "wordsim353_sim_rel/wordsim353_annotator2.txt\n",
      "wordsim353_sim_rel/wordsim_relatedness_goldstandard.txt\n",
      "wordsim353_sim_rel/wordsim_similarity_goldstandard.txt\n"
     ]
    },
    {
     "name": "stderr",
     "output_type": "stream",
     "text": [
      "200 OK\n",
      "Length: 5460 (5,3K) [application/x-gzip]\n",
      "Saving to: ‘ws353simrel.tar.gz’\n",
      "\n",
      "ws353simrel.tar.gz  100%[===================>]   5,33K  --.-KB/s    in 0,003s  \n",
      "\n",
      "2021-11-26 09:14:52 (2,04 MB/s) - ‘ws353simrel.tar.gz’ saved [5460/5460]\n",
      "\n"
     ]
    }
   ],
   "source": [
    "if DOWNLOAD_GLOVE:\n",
    "    system(\"mkdir -p glove\")\n",
    "    system(\"wget --progress=bar:force:noscroll -c https://nlp.stanford.edu/data/glove.6B.zip -P glove\")\n",
    "    system(\"unzip glove/glove.6B.zip -d glove\")\n",
    "\n",
    "if DOWNLOAD_WORDSIM:\n",
    "    system(\"wget --progress=bar:force:noscroll -c http://alfonseca.org/pubs/ws353simrel.tar.gz\")\n",
    "    system(\"tar -xvzf ws353simrel.tar.gz\")"
   ]
  },
  {
   "cell_type": "code",
   "execution_count": 3,
   "metadata": {},
   "outputs": [
    {
     "data": {
      "text/html": [
       "<div>\n",
       "<style scoped>\n",
       "    .dataframe tbody tr th:only-of-type {\n",
       "        vertical-align: middle;\n",
       "    }\n",
       "\n",
       "    .dataframe tbody tr th {\n",
       "        vertical-align: top;\n",
       "    }\n",
       "\n",
       "    .dataframe thead th {\n",
       "        text-align: right;\n",
       "    }\n",
       "</style>\n",
       "<table border=\"1\" class=\"dataframe\">\n",
       "  <thead>\n",
       "    <tr style=\"text-align: right;\">\n",
       "      <th></th>\n",
       "      <th>1</th>\n",
       "      <th>2</th>\n",
       "      <th>3</th>\n",
       "      <th>4</th>\n",
       "      <th>5</th>\n",
       "      <th>6</th>\n",
       "      <th>7</th>\n",
       "      <th>8</th>\n",
       "      <th>9</th>\n",
       "      <th>10</th>\n",
       "      <th>...</th>\n",
       "      <th>91</th>\n",
       "      <th>92</th>\n",
       "      <th>93</th>\n",
       "      <th>94</th>\n",
       "      <th>95</th>\n",
       "      <th>96</th>\n",
       "      <th>97</th>\n",
       "      <th>98</th>\n",
       "      <th>99</th>\n",
       "      <th>100</th>\n",
       "    </tr>\n",
       "    <tr>\n",
       "      <th>word</th>\n",
       "      <th></th>\n",
       "      <th></th>\n",
       "      <th></th>\n",
       "      <th></th>\n",
       "      <th></th>\n",
       "      <th></th>\n",
       "      <th></th>\n",
       "      <th></th>\n",
       "      <th></th>\n",
       "      <th></th>\n",
       "      <th></th>\n",
       "      <th></th>\n",
       "      <th></th>\n",
       "      <th></th>\n",
       "      <th></th>\n",
       "      <th></th>\n",
       "      <th></th>\n",
       "      <th></th>\n",
       "      <th></th>\n",
       "      <th></th>\n",
       "      <th></th>\n",
       "    </tr>\n",
       "  </thead>\n",
       "  <tbody>\n",
       "    <tr>\n",
       "      <th>the</th>\n",
       "      <td>-0.038194</td>\n",
       "      <td>-0.244870</td>\n",
       "      <td>0.728120</td>\n",
       "      <td>-0.399610</td>\n",
       "      <td>0.083172</td>\n",
       "      <td>0.043953</td>\n",
       "      <td>-0.391410</td>\n",
       "      <td>0.334400</td>\n",
       "      <td>-0.57545</td>\n",
       "      <td>0.087459</td>\n",
       "      <td>...</td>\n",
       "      <td>0.016215</td>\n",
       "      <td>-0.017099</td>\n",
       "      <td>-0.389840</td>\n",
       "      <td>0.87424</td>\n",
       "      <td>-0.725690</td>\n",
       "      <td>-0.510580</td>\n",
       "      <td>-0.520280</td>\n",
       "      <td>-0.145900</td>\n",
       "      <td>0.82780</td>\n",
       "      <td>0.270620</td>\n",
       "    </tr>\n",
       "    <tr>\n",
       "      <th>,</th>\n",
       "      <td>-0.107670</td>\n",
       "      <td>0.110530</td>\n",
       "      <td>0.598120</td>\n",
       "      <td>-0.543610</td>\n",
       "      <td>0.673960</td>\n",
       "      <td>0.106630</td>\n",
       "      <td>0.038867</td>\n",
       "      <td>0.354810</td>\n",
       "      <td>0.06351</td>\n",
       "      <td>-0.094189</td>\n",
       "      <td>...</td>\n",
       "      <td>0.349510</td>\n",
       "      <td>-0.722600</td>\n",
       "      <td>0.375490</td>\n",
       "      <td>0.44410</td>\n",
       "      <td>-0.990590</td>\n",
       "      <td>0.612140</td>\n",
       "      <td>-0.351110</td>\n",
       "      <td>-0.831550</td>\n",
       "      <td>0.45293</td>\n",
       "      <td>0.082577</td>\n",
       "    </tr>\n",
       "    <tr>\n",
       "      <th>.</th>\n",
       "      <td>-0.339790</td>\n",
       "      <td>0.209410</td>\n",
       "      <td>0.463480</td>\n",
       "      <td>-0.647920</td>\n",
       "      <td>-0.383770</td>\n",
       "      <td>0.038034</td>\n",
       "      <td>0.171270</td>\n",
       "      <td>0.159780</td>\n",
       "      <td>0.46619</td>\n",
       "      <td>-0.019169</td>\n",
       "      <td>...</td>\n",
       "      <td>-0.063351</td>\n",
       "      <td>-0.674120</td>\n",
       "      <td>-0.068895</td>\n",
       "      <td>0.53604</td>\n",
       "      <td>-0.877730</td>\n",
       "      <td>0.318020</td>\n",
       "      <td>-0.392420</td>\n",
       "      <td>-0.233940</td>\n",
       "      <td>0.47298</td>\n",
       "      <td>-0.028803</td>\n",
       "    </tr>\n",
       "    <tr>\n",
       "      <th>of</th>\n",
       "      <td>-0.152900</td>\n",
       "      <td>-0.242790</td>\n",
       "      <td>0.898370</td>\n",
       "      <td>0.169960</td>\n",
       "      <td>0.535160</td>\n",
       "      <td>0.487840</td>\n",
       "      <td>-0.588260</td>\n",
       "      <td>-0.179820</td>\n",
       "      <td>-1.35810</td>\n",
       "      <td>0.425410</td>\n",
       "      <td>...</td>\n",
       "      <td>0.187120</td>\n",
       "      <td>-0.018488</td>\n",
       "      <td>-0.267570</td>\n",
       "      <td>0.72700</td>\n",
       "      <td>-0.593630</td>\n",
       "      <td>-0.348390</td>\n",
       "      <td>-0.560940</td>\n",
       "      <td>-0.591000</td>\n",
       "      <td>1.00390</td>\n",
       "      <td>0.206640</td>\n",
       "    </tr>\n",
       "    <tr>\n",
       "      <th>to</th>\n",
       "      <td>-0.189700</td>\n",
       "      <td>0.050024</td>\n",
       "      <td>0.190840</td>\n",
       "      <td>-0.049184</td>\n",
       "      <td>-0.089737</td>\n",
       "      <td>0.210060</td>\n",
       "      <td>-0.549520</td>\n",
       "      <td>0.098377</td>\n",
       "      <td>-0.20135</td>\n",
       "      <td>0.342410</td>\n",
       "      <td>...</td>\n",
       "      <td>-0.131340</td>\n",
       "      <td>0.058617</td>\n",
       "      <td>-0.318690</td>\n",
       "      <td>-0.61419</td>\n",
       "      <td>-0.623930</td>\n",
       "      <td>-0.415480</td>\n",
       "      <td>-0.038175</td>\n",
       "      <td>-0.398040</td>\n",
       "      <td>0.47647</td>\n",
       "      <td>-0.159830</td>\n",
       "    </tr>\n",
       "    <tr>\n",
       "      <th>...</th>\n",
       "      <td>...</td>\n",
       "      <td>...</td>\n",
       "      <td>...</td>\n",
       "      <td>...</td>\n",
       "      <td>...</td>\n",
       "      <td>...</td>\n",
       "      <td>...</td>\n",
       "      <td>...</td>\n",
       "      <td>...</td>\n",
       "      <td>...</td>\n",
       "      <td>...</td>\n",
       "      <td>...</td>\n",
       "      <td>...</td>\n",
       "      <td>...</td>\n",
       "      <td>...</td>\n",
       "      <td>...</td>\n",
       "      <td>...</td>\n",
       "      <td>...</td>\n",
       "      <td>...</td>\n",
       "      <td>...</td>\n",
       "      <td>...</td>\n",
       "    </tr>\n",
       "    <tr>\n",
       "      <th>chanty</th>\n",
       "      <td>-0.155770</td>\n",
       "      <td>-0.049188</td>\n",
       "      <td>-0.064377</td>\n",
       "      <td>0.223600</td>\n",
       "      <td>-0.201460</td>\n",
       "      <td>-0.038963</td>\n",
       "      <td>0.129710</td>\n",
       "      <td>-0.294510</td>\n",
       "      <td>0.00359</td>\n",
       "      <td>-0.098377</td>\n",
       "      <td>...</td>\n",
       "      <td>0.093324</td>\n",
       "      <td>0.094486</td>\n",
       "      <td>-0.023469</td>\n",
       "      <td>-0.48099</td>\n",
       "      <td>0.623320</td>\n",
       "      <td>0.024318</td>\n",
       "      <td>-0.275870</td>\n",
       "      <td>0.075044</td>\n",
       "      <td>-0.56380</td>\n",
       "      <td>0.145010</td>\n",
       "    </tr>\n",
       "    <tr>\n",
       "      <th>kronik</th>\n",
       "      <td>-0.094426</td>\n",
       "      <td>0.147250</td>\n",
       "      <td>-0.157390</td>\n",
       "      <td>0.071966</td>\n",
       "      <td>-0.298450</td>\n",
       "      <td>0.039432</td>\n",
       "      <td>0.021870</td>\n",
       "      <td>0.008041</td>\n",
       "      <td>-0.18682</td>\n",
       "      <td>-0.311010</td>\n",
       "      <td>...</td>\n",
       "      <td>-0.305450</td>\n",
       "      <td>-0.011082</td>\n",
       "      <td>0.118550</td>\n",
       "      <td>-0.11312</td>\n",
       "      <td>0.339510</td>\n",
       "      <td>-0.224490</td>\n",
       "      <td>0.257430</td>\n",
       "      <td>0.631430</td>\n",
       "      <td>-0.20090</td>\n",
       "      <td>-0.105420</td>\n",
       "    </tr>\n",
       "    <tr>\n",
       "      <th>rolonda</th>\n",
       "      <td>0.360880</td>\n",
       "      <td>-0.169190</td>\n",
       "      <td>-0.327040</td>\n",
       "      <td>0.098332</td>\n",
       "      <td>-0.429700</td>\n",
       "      <td>-0.188740</td>\n",
       "      <td>0.455560</td>\n",
       "      <td>0.285290</td>\n",
       "      <td>0.30340</td>\n",
       "      <td>-0.366830</td>\n",
       "      <td>...</td>\n",
       "      <td>-0.044082</td>\n",
       "      <td>0.140030</td>\n",
       "      <td>0.300070</td>\n",
       "      <td>-0.12731</td>\n",
       "      <td>-0.143040</td>\n",
       "      <td>-0.069396</td>\n",
       "      <td>0.281600</td>\n",
       "      <td>0.271390</td>\n",
       "      <td>-0.29188</td>\n",
       "      <td>0.161090</td>\n",
       "    </tr>\n",
       "    <tr>\n",
       "      <th>zsombor</th>\n",
       "      <td>-0.104610</td>\n",
       "      <td>-0.504700</td>\n",
       "      <td>-0.493310</td>\n",
       "      <td>0.135160</td>\n",
       "      <td>-0.363710</td>\n",
       "      <td>-0.447500</td>\n",
       "      <td>0.184290</td>\n",
       "      <td>-0.056510</td>\n",
       "      <td>0.40474</td>\n",
       "      <td>-0.725830</td>\n",
       "      <td>...</td>\n",
       "      <td>0.151530</td>\n",
       "      <td>-0.108420</td>\n",
       "      <td>0.340640</td>\n",
       "      <td>-0.40916</td>\n",
       "      <td>-0.081263</td>\n",
       "      <td>0.095315</td>\n",
       "      <td>0.150180</td>\n",
       "      <td>0.425270</td>\n",
       "      <td>-0.51250</td>\n",
       "      <td>-0.170540</td>\n",
       "    </tr>\n",
       "    <tr>\n",
       "      <th>sandberger</th>\n",
       "      <td>0.283650</td>\n",
       "      <td>-0.626300</td>\n",
       "      <td>-0.443510</td>\n",
       "      <td>0.217700</td>\n",
       "      <td>-0.087421</td>\n",
       "      <td>-0.170620</td>\n",
       "      <td>0.292660</td>\n",
       "      <td>-0.024899</td>\n",
       "      <td>0.26414</td>\n",
       "      <td>-0.170230</td>\n",
       "      <td>...</td>\n",
       "      <td>0.138850</td>\n",
       "      <td>-0.228620</td>\n",
       "      <td>0.071792</td>\n",
       "      <td>-0.43208</td>\n",
       "      <td>0.539800</td>\n",
       "      <td>-0.085806</td>\n",
       "      <td>0.032651</td>\n",
       "      <td>0.436780</td>\n",
       "      <td>-0.82607</td>\n",
       "      <td>-0.157010</td>\n",
       "    </tr>\n",
       "  </tbody>\n",
       "</table>\n",
       "<p>400000 rows × 100 columns</p>\n",
       "</div>"
      ],
      "text/plain": [
       "                 1         2         3         4         5         6    \\\n",
       "word                                                                     \n",
       "the        -0.038194 -0.244870  0.728120 -0.399610  0.083172  0.043953   \n",
       ",          -0.107670  0.110530  0.598120 -0.543610  0.673960  0.106630   \n",
       ".          -0.339790  0.209410  0.463480 -0.647920 -0.383770  0.038034   \n",
       "of         -0.152900 -0.242790  0.898370  0.169960  0.535160  0.487840   \n",
       "to         -0.189700  0.050024  0.190840 -0.049184 -0.089737  0.210060   \n",
       "...              ...       ...       ...       ...       ...       ...   \n",
       "chanty     -0.155770 -0.049188 -0.064377  0.223600 -0.201460 -0.038963   \n",
       "kronik     -0.094426  0.147250 -0.157390  0.071966 -0.298450  0.039432   \n",
       "rolonda     0.360880 -0.169190 -0.327040  0.098332 -0.429700 -0.188740   \n",
       "zsombor    -0.104610 -0.504700 -0.493310  0.135160 -0.363710 -0.447500   \n",
       "sandberger  0.283650 -0.626300 -0.443510  0.217700 -0.087421 -0.170620   \n",
       "\n",
       "                 7         8        9         10   ...       91        92   \\\n",
       "word                                               ...                       \n",
       "the        -0.391410  0.334400 -0.57545  0.087459  ...  0.016215 -0.017099   \n",
       ",           0.038867  0.354810  0.06351 -0.094189  ...  0.349510 -0.722600   \n",
       ".           0.171270  0.159780  0.46619 -0.019169  ... -0.063351 -0.674120   \n",
       "of         -0.588260 -0.179820 -1.35810  0.425410  ...  0.187120 -0.018488   \n",
       "to         -0.549520  0.098377 -0.20135  0.342410  ... -0.131340  0.058617   \n",
       "...              ...       ...      ...       ...  ...       ...       ...   \n",
       "chanty      0.129710 -0.294510  0.00359 -0.098377  ...  0.093324  0.094486   \n",
       "kronik      0.021870  0.008041 -0.18682 -0.311010  ... -0.305450 -0.011082   \n",
       "rolonda     0.455560  0.285290  0.30340 -0.366830  ... -0.044082  0.140030   \n",
       "zsombor     0.184290 -0.056510  0.40474 -0.725830  ...  0.151530 -0.108420   \n",
       "sandberger  0.292660 -0.024899  0.26414 -0.170230  ...  0.138850 -0.228620   \n",
       "\n",
       "                 93       94        95        96        97        98   \\\n",
       "word                                                                    \n",
       "the        -0.389840  0.87424 -0.725690 -0.510580 -0.520280 -0.145900   \n",
       ",           0.375490  0.44410 -0.990590  0.612140 -0.351110 -0.831550   \n",
       ".          -0.068895  0.53604 -0.877730  0.318020 -0.392420 -0.233940   \n",
       "of         -0.267570  0.72700 -0.593630 -0.348390 -0.560940 -0.591000   \n",
       "to         -0.318690 -0.61419 -0.623930 -0.415480 -0.038175 -0.398040   \n",
       "...              ...      ...       ...       ...       ...       ...   \n",
       "chanty     -0.023469 -0.48099  0.623320  0.024318 -0.275870  0.075044   \n",
       "kronik      0.118550 -0.11312  0.339510 -0.224490  0.257430  0.631430   \n",
       "rolonda     0.300070 -0.12731 -0.143040 -0.069396  0.281600  0.271390   \n",
       "zsombor     0.340640 -0.40916 -0.081263  0.095315  0.150180  0.425270   \n",
       "sandberger  0.071792 -0.43208  0.539800 -0.085806  0.032651  0.436780   \n",
       "\n",
       "                99        100  \n",
       "word                           \n",
       "the         0.82780  0.270620  \n",
       ",           0.45293  0.082577  \n",
       ".           0.47298 -0.028803  \n",
       "of          1.00390  0.206640  \n",
       "to          0.47647 -0.159830  \n",
       "...             ...       ...  \n",
       "chanty     -0.56380  0.145010  \n",
       "kronik     -0.20090 -0.105420  \n",
       "rolonda    -0.29188  0.161090  \n",
       "zsombor    -0.51250 -0.170540  \n",
       "sandberger -0.82607 -0.157010  \n",
       "\n",
       "[400000 rows x 100 columns]"
      ]
     },
     "execution_count": 3,
     "metadata": {},
     "output_type": "execute_result"
    }
   ],
   "source": [
    "words = pd.read_table(VECTOR_FILE, sep=\" \", index_col=0, header=None, quoting=csv.QUOTE_NONE)\n",
    "words.index.name = \"word\"\n",
    "words"
   ]
  },
  {
   "cell_type": "code",
   "execution_count": 4,
   "metadata": {},
   "outputs": [],
   "source": [
    "def get_embedding_from_word(dataframe, word):\n",
    "    return dataframe.loc[word, 1:].to_numpy()\n",
    "\n",
    "def get_embedding_matrix(dataframe):\n",
    "    return dataframe.to_numpy()\n",
    "\n",
    "def compute_cosine(word1, word2):\n",
    "    return (word1 @ word2)/(np.linalg.norm(word1) * np.linalg.norm(word2))"
   ]
  },
  {
   "cell_type": "code",
   "execution_count": 5,
   "metadata": {},
   "outputs": [
    {
     "name": "stdout",
     "output_type": "stream",
     "text": [
      "cosine similarity of train with station is 0.6394\n",
      "cosine similarity of train with schedule is 0.4241\n",
      "cosine similarity of train with plane is 0.6457\n",
      "cosine similarity of train with mouse is 0.071\n",
      "cosine similarity of train with tree is 0.2779\n"
     ]
    }
   ],
   "source": [
    "source_word_1 = \"train\"\n",
    "source_word_1_embedding = get_embedding_from_word(words, source_word_1)\n",
    "source_word_1_tests = [\"station\",\"schedule\", \"plane\", \"mouse\", \"tree\"]\n",
    "\n",
    "for test_word in source_word_1_tests:\n",
    "    print(\n",
    "        \"cosine similarity of\",\n",
    "        source_word_1, \"with\", test_word, \"is\",\n",
    "        round(compute_cosine(source_word_1_embedding, get_embedding_from_word(words, test_word)),4)\n",
    "    )"
   ]
  },
  {
   "cell_type": "code",
   "execution_count": 6,
   "metadata": {},
   "outputs": [
    {
     "name": "stdout",
     "output_type": "stream",
     "text": [
      "cosine similarity of sun with star is 0.493\n",
      "cosine similarity of sun with light is 0.5582\n",
      "cosine similarity of sun with ray is 0.3676\n",
      "cosine similarity of sun with cold is 0.4737\n",
      "cosine similarity of sun with car is 0.153\n"
     ]
    }
   ],
   "source": [
    "source_word_2 = \"sun\"\n",
    "source_word_2_embedding = get_embedding_from_word(words, source_word_2)\n",
    "source_word_2_tests = [\"star\",\"light\", \"ray\", \"cold\", \"car\"]\n",
    "\n",
    "for test_word in source_word_2_tests:\n",
    "    print(\n",
    "        \"cosine similarity of\",\n",
    "        source_word_2, \"with\", test_word, \"is\",\n",
    "        round(compute_cosine(source_word_2_embedding, get_embedding_from_word(words, test_word)),4)\n",
    "    )"
   ]
  },
  {
   "cell_type": "code",
   "execution_count": 7,
   "metadata": {},
   "outputs": [
    {
     "name": "stdout",
     "output_type": "stream",
     "text": [
      "cosine similarity of calculator with calculation is 0.5303\n",
      "cosine similarity of calculator with computer is 0.5005\n",
      "cosine similarity of calculator with symbols is 0.0923\n",
      "cosine similarity of calculator with speed is 0.1852\n",
      "cosine similarity of calculator with whale is 0.0201\n"
     ]
    }
   ],
   "source": [
    "source_word_3 = \"calculator\"\n",
    "source_word_3_embedding = get_embedding_from_word(words, source_word_3)\n",
    "source_word_3_tests = [\"calculation\",\"computer\", \"symbols\", \"speed\", \"whale\"]\n",
    "\n",
    "for test_word in source_word_3_tests:\n",
    "    print(\n",
    "        \"cosine similarity of\",\n",
    "        source_word_3, \"with\", test_word, \"is\",\n",
    "        round(compute_cosine(source_word_3_embedding, get_embedding_from_word(words, test_word)),4)\n",
    "    )"
   ]
  },
  {
   "cell_type": "code",
   "execution_count": 14,
   "metadata": {},
   "outputs": [],
   "source": [
    "def get_k_nearest_neigbours(source_vector, words, k): \n",
    "    B = get_embedding_matrix(words)\n",
    "    \n",
    "    distances = np.linalg.norm(B - source_vector, axis=1)\n",
    "    cos = (B @ source_vector)/(np.linalg.norm(B, axis=1)*np.linalg.norm(source_vector))\n",
    "    nearest_idx = np.argsort(distances)[:k]\n",
    "   \n",
    "    results = []\n",
    "    for i in nearest_idx:\n",
    "        results.append((words.index[i], round(cos[i],4)))\n",
    "    return results"
   ]
  },
  {
   "cell_type": "code",
   "execution_count": 15,
   "metadata": {},
   "outputs": [
    {
     "data": {
      "text/plain": [
       "[('train', 1.0),\n",
       " ('trains', 0.8663),\n",
       " ('bus', 0.8474),\n",
       " ('rail', 0.758),\n",
       " ('taxi', 0.6938),\n",
       " ('passenger', 0.7333),\n",
       " ('buses', 0.7381),\n",
       " ('commuter', 0.7288),\n",
       " ('subway', 0.7134),\n",
       " ('ride', 0.6873)]"
      ]
     },
     "execution_count": 15,
     "metadata": {},
     "output_type": "execute_result"
    }
   ],
   "source": [
    "get_k_nearest_neigbours(get_embedding_from_word(words, source_word_1), words, 10)"
   ]
  },
  {
   "cell_type": "code",
   "execution_count": 10,
   "metadata": {},
   "outputs": [
    {
     "data": {
      "text/plain": [
       "[('sun', 1.0),\n",
       " ('sky', 0.6127),\n",
       " ('moon', 0.6138),\n",
       " ('sunshine', 0.5513),\n",
       " ('bright', 0.557),\n",
       " ('sunrise', 0.5113),\n",
       " ('light', 0.5582),\n",
       " ('dappled', 0.4808),\n",
       " ('earth', 0.5685),\n",
       " ('turned', 0.477)]"
      ]
     },
     "execution_count": 10,
     "metadata": {},
     "output_type": "execute_result"
    }
   ],
   "source": [
    "get_k_nearest_neigbours(get_embedding_from_word(words, source_word_2), words, 10)"
   ]
  },
  {
   "cell_type": "code",
   "execution_count": 11,
   "metadata": {},
   "outputs": [
    {
     "data": {
      "text/plain": [
       "[('calculator', 1.0),\n",
       " ('calculators', 0.8147),\n",
       " ('graphing', 0.6313),\n",
       " ('gizmo', 0.5081),\n",
       " ('toolbox', 0.4978),\n",
       " ('worksheet', 0.4976),\n",
       " ('wristwatch', 0.4786),\n",
       " ('timer', 0.5637),\n",
       " ('cautery', 0.4003),\n",
       " ('screensaver', 0.4273)]"
      ]
     },
     "execution_count": 11,
     "metadata": {},
     "output_type": "execute_result"
    }
   ],
   "source": [
    "get_k_nearest_neigbours(get_embedding_from_word(words, source_word_3), words, 10)"
   ]
  },
  {
   "cell_type": "markdown",
   "metadata": {},
   "source": [
    "<a name=\"section-taskB\"></a><h2 style=\"color:rgb(0,120,170)\">Task B: Document Classification with WE (10 points)</h2>"
   ]
  },
  {
   "cell_type": "code",
   "execution_count": null,
   "metadata": {},
   "outputs": [],
   "source": []
  },
  {
   "cell_type": "markdown",
   "metadata": {},
   "source": [
    "\n",
    "\n",
    "This task follows the same instruction for document classification as provided in Assignment 1. You are indeed free to reuse any part of your code in Assignment 1 for this task. In Assignment 1, the representation of each document was created using a bag of words representation followed by dimensionality reduction. In this task, the document representations are created from the pre-trained word embeddings.\n",
    "\n",
    "**Map word embeddings to dictionary words (2 points).** For every word in the dictionary (as discussed and created in Assignment 1), fetch the corresponding word embedding from the pre-trained model. If no embedding is found, initialize the corresponding word embedding randomly.\n",
    "\n",
    "**Document embedding as the average of word embeddings (5 points).** Using the word embeddings, the representation of each document is defined as the *mean of the vectors of each document's words*. In particular, given the document $d$, consisting of words $\\left[ v_1, v_2, ..., v_{|d|} \\right]$, the document representation $\\mathbf{e}_d$ is defined as:\n",
    "\n",
    "$\\mathbf{e}_d = \\frac{1}{|d|}\\sum_{i=1}^{|d|}{\\mathbf{e}_{v_i}}$\n",
    "\n",
    "where $\\mathbf{e}_{v}$ is the vector of the word $v$, and $|d|$ is the length of the document.\n",
    "\n",
    "**Classification and evaluation (3 points)** Using these new document representations, apply <ins>three classification algorithms</ins> and report the evaluation results (based on accuracy metric) on the test set.\n",
    "\n",
    "</div>"
   ]
  },
  {
   "cell_type": "code",
   "execution_count": null,
   "metadata": {},
   "outputs": [],
   "source": []
  },
  {
   "cell_type": "code",
   "execution_count": null,
   "metadata": {},
   "outputs": [],
   "source": []
  },
  {
   "cell_type": "markdown",
   "metadata": {},
   "source": [
    "<a name=\"section-taskC\"></a><h2 style=\"color:rgb(0,120,170)\">Task C: Classification with sent2vec Document Embeddings (2 extra point)</h2>"
   ]
  },
  {
   "cell_type": "markdown",
   "metadata": {},
   "source": [
    "\n",
    "\n",
    "Sent2vec [2] suggests another unsupervised approach to creating document embeddings from the underlying word embeddings. First, using the provided code in the paper, train a sendtvec model on the training set to create document embeddings. Then, repeat Task B while using the document embeddings provided by sent2vec. Similar to Task 2, conduct the classification experiments and report evaluation results.\n",
    "\n",
    "</div>"
   ]
  },
  {
   "cell_type": "code",
   "execution_count": null,
   "metadata": {},
   "outputs": [],
   "source": []
  },
  {
   "cell_type": "code",
   "execution_count": null,
   "metadata": {},
   "outputs": [],
   "source": []
  },
  {
   "cell_type": "markdown",
   "metadata": {},
   "source": [
    "<a name=\"section-references\"></a><h2 style=\"color:rgb(0,120,170)\">References</h2>"
   ]
  },
  {
   "cell_type": "markdown",
   "metadata": {},
   "source": [
    "[1] O. Levy, Y. Goldberg, and I. Dagan. Improving distributional similarity with lessons learned from word embeddings. Transactions of the Association for Computational Linguistics, 3:211– 225, 2015.\n",
    "\n",
    "[2] M. Pagliardini, P. Gupta, and M. Jaggi. Unsupervised Learning of Sentence Embeddings using Compositional n-Gram Features. In Proceedings of the conference of the North American Chapter of the Association for Computational Linguistics (NAACL), 2018."
   ]
  }
 ],
 "metadata": {
  "kernelspec": {
   "display_name": "Python 3",
   "language": "python",
   "name": "python3"
  },
  "language_info": {
   "codemirror_mode": {
    "name": "ipython",
    "version": 3
   },
   "file_extension": ".py",
   "mimetype": "text/x-python",
   "name": "python",
   "nbconvert_exporter": "python",
   "pygments_lexer": "ipython3",
   "version": "3.9.0"
  }
 },
 "nbformat": 4,
 "nbformat_minor": 4
}
